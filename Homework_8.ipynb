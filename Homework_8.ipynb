{
 "cells": [
  {
   "cell_type": "code",
   "execution_count": 17,
   "id": "341a0e8d",
   "metadata": {},
   "outputs": [
    {
     "data": {
      "image/png": "[encoded data removed]",
      "text/plain": [
       "<Figure size 640x480 with 1 Axes>"
      ]
     },
     "metadata": {},
     "output_type": "display_data"
    },
    {
     "name": "stdout",
     "output_type": "stream",
     "text": [
      "Коэффициент ковариации, рассчитанный по формуле, равен: 9157.839999999997.\n",
      "Коэффициент ковариации, рассчитанный с использованием функции cov из numpy, равен: [[ 3494.64  9157.84]\n",
      " [ 9157.84 30468.89]].\n",
      "Коэффициент корреляции Пирсона, рассчитанный с помощью ковариации и среднеквадратичных отклонений двух признаков, равен: [[0.33866702 0.88749009]\n",
      " [0.88749009 2.95275283]].\n",
      "Коэффициент корреляции Пирсона, рассчитанный функцией corrcoef библиотеки numpy, равен: [[1.         0.88749009]\n",
      " [0.88749009 1.        ]].\n",
      "Коэффициент корреляции Пирсона, рассчитанный функцией corr библиотеки pandas:\n"
     ]
    },
    {
     "data": {
      "text/html": [
       "<div>\n",
       "<style scoped>\n",
       "    .dataframe tbody tr th:only-of-type {\n",
       "        vertical-align: middle;\n",
       "    }\n",
       "\n",
       "    .dataframe tbody tr th {\n",
       "        vertical-align: top;\n",
       "    }\n",
       "\n",
       "    .dataframe thead th {\n",
       "        text-align: right;\n",
       "    }\n",
       "</style>\n",
       "<table border=\"1\" class=\"dataframe\">\n",
       "  <thead>\n",
       "    <tr style=\"text-align: right;\">\n",
       "      <th></th>\n",
       "      <th>zp</th>\n",
       "      <th>ks</th>\n",
       "    </tr>\n",
       "  </thead>\n",
       "  <tbody>\n",
       "    <tr>\n",
       "      <th>zp</th>\n",
       "      <td>1.00000</td>\n",
       "      <td>0.88749</td>\n",
       "    </tr>\n",
       "    <tr>\n",
       "      <th>ks</th>\n",
       "      <td>0.88749</td>\n",
       "      <td>1.00000</td>\n",
       "    </tr>\n",
       "  </tbody>\n",
       "</table>\n",
       "</div>"
      ],
      "text/plain": [
       "         zp       ks\n",
       "zp  1.00000  0.88749\n",
       "ks  0.88749  1.00000"
      ]
     },
     "execution_count": 17,
     "metadata": {},
     "output_type": "execute_result"
    }
   ],
   "source": [
    "# 1. Даны значения величины заработной платы заемщиков банка (zp)\n",
    "# и значения их поведенческого кредитного скоринга (ks):\n",
    "# zp = [35, 45, 190, 200, 40, 70, 54, 150, 120, 110].\n",
    "# ks = [401, 574, 874, 919, 459, 739, 653, 902, 746, 832].\n",
    "# Найдите ковариацию этих двух величин с помощью элементарных действий,\n",
    "# а затем с помощью функции cov из numpy.\n",
    "# Полученные значения должны быть равны.\n",
    "# Найдите коэффициент корреляции Пирсона с помощью ковариации и\n",
    "# среднеквадратичных отклонений двух признаков,\n",
    "# а затем с использованием функций из библиотек numpy и pandas.\n",
    "\n",
    "import numpy as np\n",
    "import pandas as pd\n",
    "import matplotlib.pyplot as plot\n",
    "\n",
    "zp_data = np.array([35, 45, 190, 200, 40, 70, 54, 150, 120, 110])\n",
    "ks_data = np.array([401, 574, 874, 919, 459, 739, 653, 902, 746, 832])\n",
    "\n",
    "plot.scatter(zp_data, ks_data)\n",
    "plot.xlabel('Величина заработной платы заемщиков')\n",
    "plot.ylabel('Поведенческий кредитный скоринг')\n",
    "plot.show()\n",
    "\n",
    "cov = np.mean(zp_data * ks_data) - np.mean(zp_data) * np.mean(ks_data) # Коэффициент ковариации по формуле: cov x,y = M(X,Y) - M(X) * M(Y)\n",
    "\n",
    "print(f'Коэффициент ковариации, рассчитанный по формуле, равен: {cov}.')\n",
    "\n",
    "cov = np.cov(zp_data, ks_data, ddof=0) # Коэффициент ковариации с помощью функции cov из numpy\n",
    "\n",
    "print(f'Коэффициент ковариации, рассчитанный с использованием функции cov из numpy, равен: {cov}.')\n",
    "\n",
    "np.cov(zp_data, ks_data, ddof = 1) # Несмещенная ковариация\n",
    "\n",
    "np.std(zp_data, ddof = 1)\n",
    "\n",
    "np.std(ks_data, ddof = 1)\n",
    "\n",
    "np.cov(zp_data, ks_data, ddof = 0) # Смещенная ковариация\n",
    "\n",
    "np.std(zp_data, ddof = 0)\n",
    "\n",
    "np.std(ks_data, ddof = 0)\n",
    "\n",
    "coeff_corr = cov / (np.std(zp_data, ddof = 0) * np.std(ks_data, ddof = 0)) # Коэффициент корреляции Пирсона по формуле: r (X,Y) = cov (X,Y) / (sigma X * sigma Y)\n",
    "\n",
    "print(f'Коэффициент корреляции Пирсона, рассчитанный с помощью ковариации и среднеквадратичных отклонений двух признаков, равен: {coeff_corr}.')\n",
    "\n",
    "print(f'Коэффициент корреляции Пирсона, рассчитанный функцией corrcoef библиотеки numpy, равен: {np.corrcoef(zp_data, ks_data)}.')\n",
    "\n",
    "print(f'Коэффициент корреляции Пирсона, рассчитанный функцией corr библиотеки pandas:')\n",
    "\n",
    "data_corr = pd.DataFrame(data = {'zp':zp_data, 'ks':ks_data})\n",
    "\n",
    "data_corr.corr()"
   ]
  },
  {
   "cell_type": "code",
   "execution_count": 14,
   "id": "142420ca",
   "metadata": {},
   "outputs": [
    {
     "name": "stdout",
     "output_type": "stream",
     "text": [
      "Доверительный интервал для истинного значения IQ для математического ожидания с надежностью 0.95: от 111.0 до 126.0.\n"
     ]
    }
   ],
   "source": [
    "# 2. Измерены значения IQ выборки студентов,\n",
    "# обучающихся в местных технических ВУЗах:\n",
    "# 131, 125, 115, 122, 131, 115, 107, 99, 125, 111.\n",
    "# Известно, что в генеральной совокупности IQ распределен нормально.\n",
    "# Найдите доверительный интервал для математического ожидания с надежностью 0.95.\n",
    "\n",
    "import scipy.stats as stats\n",
    "\n",
    "data = np.array([131, 125, 115, 122, 131, 115, 107, 99, 125, 111])\n",
    "n = 10\n",
    "\n",
    "# Используем формулу для критерия Стьюдента\n",
    "\n",
    "M = np.mean(data) # Среднее значение по измерениям\n",
    "\n",
    "D = np.var(data, ddof=1) # Среднеквадратическое отклонение\n",
    "\n",
    "t = stats.t.ppf(0.975, 9) # Степеней свободы 9 (n - 1)\n",
    "\n",
    "print(f'Доверительный интервал для истинного значения IQ для математического ожидания с надежностью 0.95: от {round((M - t * np.sqrt(D / n)), 0)} до {round((M + t * np.sqrt(D / n)),0)}.')"
   ]
  },
  {
   "cell_type": "code",
   "execution_count": 12,
   "id": "e1d78f7b",
   "metadata": {},
   "outputs": [
    {
     "name": "stdout",
     "output_type": "stream",
     "text": [
      "Доверительный интервал для истинного значения роста футболистов в сборной для математического ожидания с надежностью 0.95: от 172.31 до 176.09.\n"
     ]
    }
   ],
   "source": [
    "# 3. Известно, что рост футболистов в сборной распределен\n",
    "# нормально с дисперсией генеральной совокупности, \n",
    "# равной 25 кв.см. Объем выборки равен 27, среднее\n",
    "# выборочное составляет 174.2. \n",
    "# Найдите доверительный интервал для математического ожидания с надежностью 0.95.\n",
    "\n",
    "# Используем Z-критерий\n",
    "\n",
    "t = 1.96 # Табличное значение для Z-критерия\n",
    "\n",
    "M = 174.2 # Среднее значение по измерениям\n",
    "\n",
    "sigma = 25 # Дисперсия генеральной совокупности\n",
    "\n",
    "n = 27\n",
    "\n",
    "print(f'Доверительный интервал для истинного значения роста футболистов в сборной для математического ожидания с надежностью 0.95: от {round((M - t * np.sqrt(sigma / n)), 2)} до {round((M + t * np.sqrt(sigma / n)), 2)}.')"
   ]
  }
 ],
 "metadata": {
  "kernelspec": {
   "display_name": "Python 3 (ipykernel)",
   "language": "python",
   "name": "python3"
  },
  "language_info": {
   "codemirror_mode": {
    "name": "ipython",
    "version": 3
   },
   "file_extension": ".py",
   "mimetype": "text/x-python",
   "name": "python",
   "nbconvert_exporter": "python",
   "pygments_lexer": "ipython3",
   "version": "3.9.13"
  }
 },
 "nbformat": 4,
 "nbformat_minor": 5
}
